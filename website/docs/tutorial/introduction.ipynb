{
  "cells": [
    {
      "cell_type": "markdown",
      "metadata": {
        "id": "uELgyPFnDFsW"
      },
      "source": [
        "# Introduction to AutoGen\n",
        "\n",
        "Welcome! AutoGen is an open-source framework that leverages multiple _agents_ to enable complex workflows. This tutorial introduces basic concepts and building blocks of AutoGen."
      ]
    },
    {
      "cell_type": "markdown",
      "metadata": {
        "id": "CEgFQLPzDFsZ"
      },
      "source": [
        "## Why AutoGen?\n",
        "\n",
        "> _The whole is greater than the sum of its parts._<br/>\n",
        "> -**Aristotle**\n",
        "\n",
        "While there are many definitions of agents, in AutoGen, an agent is an entity that can send messages, receive messages and generate a reply using models, tools, human inputs or a mixture of them.\n",
        "This abstraction not only allows agents to model real-world and abstract entities, such as people and algorithms, but it also simplifies implementation of complex workflows as collaboration among agents.\n",
        "\n",
        "Further, AutoGen is extensible and composable: you can extend a simple agent with customizable components and create workflows that can combine these agents and power a more sophisticated agent, resulting in implementations that are modular and easy to maintain.\n",
        "\n",
        "Most importantly, AutoGen is developed by a vibrant community of researchers\n",
        "and engineers. It incorporates the latest research in multi-agent systems\n",
        "and has been used in many real-world applications, including agent platform,\n",
        "advertising, AI employees, blog/article writing, blockchain, calculate burned areas by wildfires,\n",
        "customer support, cybersecurity, data analytics, debate, education, finance, gaming, legal consultation,\n",
        "research, robotics, sales/marketing, social simulation, software engineering,\n",
        "software security, supply chain, t-shirt design, training data generation, Youtube service..."
      ]
    },
    {
      "cell_type": "markdown",
      "metadata": {
        "id": "LnU83-vjDFsZ"
      },
      "source": [
        "## Installation\n",
        "\n",
        "The simplest way to install AutoGen is from pip: `pip install autogen`. Find more options in [Installation](/docs/installation/)."
      ]
    },
    {
      "cell_type": "markdown",
      "metadata": {
        "id": "SKfOIt4QDFsa"
      },
      "source": [
        "## Agents\n",
        "\n",
        "In AutoGen, an agent is an entity that can send and receive messages to and from\n",
        "other agents in its environment. An agent can be powered by models (such as a large language model\n",
        "like GPT-4), code executors (such as an IPython kernel), human, or a combination of these\n",
        "and other pluggable and customizable components.\n",
        "\n",
        "```{=mdx}\n",
        "![ConversableAgent](./assets/conversable-agent.jpg)\n",
        "```\n",
        "\n",
        "An example of such agents is the built-in `ConversableAgent` which supports the following components:\n",
        "\n",
        "1. A list of LLMs\n",
        "2. A code executor\n",
        "3. A function and tool executor\n",
        "4. A component for keeping human-in-the-loop\n",
        "\n",
        "You can switch each component on or off and customize it to suit the need of\n",
        "your application. For advanced users, you can add additional components to the agent\n",
        "by using [`registered_reply`](../reference/agentchat/conversable_agent/#register_reply)."
      ]
    },
    {
      "cell_type": "markdown",
      "metadata": {
        "id": "gg73J0AnDFsa"
      },
      "source": [
        "LLMs, for example, enable agents to converse in natural languages and transform between structured and unstructured text.\n",
        "The following example shows a `ConversableAgent` with a GPT-4 LLM switched on and other\n",
        "components switched off:"
      ]
    },
    {
      "cell_type": "code",
      "source": [
        "%pip install autogen"
      ],
      "metadata": {
        "collapsed": true,
        "colab": {
          "base_uri": "https://localhost:8080/"
        },
        "id": "h07V3qjtD_LL",
        "outputId": "bb84241f-629d-42f9-bd79-fb17885c1bc7"
      },
      "execution_count": 1,
      "outputs": [
        {
          "output_type": "stream",
          "name": "stdout",
          "text": [
            "Collecting autogen\n",
            "  Downloading autogen-0.9.6-py3-none-any.whl.metadata (24 kB)\n",
            "Collecting ag2==0.9.6 (from autogen)\n",
            "  Downloading ag2-0.9.6-py3-none-any.whl.metadata (35 kB)\n",
            "Requirement already satisfied: anyio<5.0.0,>=3.0.0 in /usr/local/lib/python3.11/dist-packages (from ag2==0.9.6->autogen) (4.9.0)\n",
            "Collecting asyncer==0.0.8 (from ag2==0.9.6->autogen)\n",
            "  Downloading asyncer-0.0.8-py3-none-any.whl.metadata (6.7 kB)\n",
            "Collecting diskcache (from ag2==0.9.6->autogen)\n",
            "  Downloading diskcache-5.6.3-py3-none-any.whl.metadata (20 kB)\n",
            "Collecting docker (from ag2==0.9.6->autogen)\n",
            "  Downloading docker-7.1.0-py3-none-any.whl.metadata (3.8 kB)\n",
            "Requirement already satisfied: httpx<1,>=0.28.1 in /usr/local/lib/python3.11/dist-packages (from ag2==0.9.6->autogen) (0.28.1)\n",
            "Requirement already satisfied: packaging in /usr/local/lib/python3.11/dist-packages (from ag2==0.9.6->autogen) (25.0)\n",
            "Requirement already satisfied: pydantic<3,>=2.6.1 in /usr/local/lib/python3.11/dist-packages (from ag2==0.9.6->autogen) (2.11.7)\n",
            "Collecting python-dotenv (from ag2==0.9.6->autogen)\n",
            "  Downloading python_dotenv-1.1.1-py3-none-any.whl.metadata (24 kB)\n",
            "Requirement already satisfied: termcolor in /usr/local/lib/python3.11/dist-packages (from ag2==0.9.6->autogen) (3.1.0)\n",
            "Requirement already satisfied: tiktoken in /usr/local/lib/python3.11/dist-packages (from ag2==0.9.6->autogen) (0.9.0)\n",
            "Requirement already satisfied: idna>=2.8 in /usr/local/lib/python3.11/dist-packages (from anyio<5.0.0,>=3.0.0->ag2==0.9.6->autogen) (3.10)\n",
            "Requirement already satisfied: sniffio>=1.1 in /usr/local/lib/python3.11/dist-packages (from anyio<5.0.0,>=3.0.0->ag2==0.9.6->autogen) (1.3.1)\n",
            "Requirement already satisfied: typing_extensions>=4.5 in /usr/local/lib/python3.11/dist-packages (from anyio<5.0.0,>=3.0.0->ag2==0.9.6->autogen) (4.14.1)\n",
            "Requirement already satisfied: certifi in /usr/local/lib/python3.11/dist-packages (from httpx<1,>=0.28.1->ag2==0.9.6->autogen) (2025.7.14)\n",
            "Requirement already satisfied: httpcore==1.* in /usr/local/lib/python3.11/dist-packages (from httpx<1,>=0.28.1->ag2==0.9.6->autogen) (1.0.9)\n",
            "Requirement already satisfied: h11>=0.16 in /usr/local/lib/python3.11/dist-packages (from httpcore==1.*->httpx<1,>=0.28.1->ag2==0.9.6->autogen) (0.16.0)\n",
            "Requirement already satisfied: annotated-types>=0.6.0 in /usr/local/lib/python3.11/dist-packages (from pydantic<3,>=2.6.1->ag2==0.9.6->autogen) (0.7.0)\n",
            "Requirement already satisfied: pydantic-core==2.33.2 in /usr/local/lib/python3.11/dist-packages (from pydantic<3,>=2.6.1->ag2==0.9.6->autogen) (2.33.2)\n",
            "Requirement already satisfied: typing-inspection>=0.4.0 in /usr/local/lib/python3.11/dist-packages (from pydantic<3,>=2.6.1->ag2==0.9.6->autogen) (0.4.1)\n",
            "Requirement already satisfied: requests>=2.26.0 in /usr/local/lib/python3.11/dist-packages (from docker->ag2==0.9.6->autogen) (2.32.3)\n",
            "Requirement already satisfied: urllib3>=1.26.0 in /usr/local/lib/python3.11/dist-packages (from docker->ag2==0.9.6->autogen) (2.5.0)\n",
            "Requirement already satisfied: regex>=2022.1.18 in /usr/local/lib/python3.11/dist-packages (from tiktoken->ag2==0.9.6->autogen) (2024.11.6)\n",
            "Requirement already satisfied: charset-normalizer<4,>=2 in /usr/local/lib/python3.11/dist-packages (from requests>=2.26.0->docker->ag2==0.9.6->autogen) (3.4.2)\n",
            "Downloading autogen-0.9.6-py3-none-any.whl (13 kB)\n",
            "Downloading ag2-0.9.6-py3-none-any.whl (859 kB)\n",
            "\u001b[2K   \u001b[90m━━━━━━━━━━━━━━━━━━━━━━━━━━━━━━━━━━━━━━━━\u001b[0m \u001b[32m859.2/859.2 kB\u001b[0m \u001b[31m23.4 MB/s\u001b[0m eta \u001b[36m0:00:00\u001b[0m\n",
            "\u001b[?25hDownloading asyncer-0.0.8-py3-none-any.whl (9.2 kB)\n",
            "Downloading diskcache-5.6.3-py3-none-any.whl (45 kB)\n",
            "\u001b[2K   \u001b[90m━━━━━━━━━━━━━━━━━━━━━━━━━━━━━━━━━━━━━━━━\u001b[0m \u001b[32m45.5/45.5 kB\u001b[0m \u001b[31m4.2 MB/s\u001b[0m eta \u001b[36m0:00:00\u001b[0m\n",
            "\u001b[?25hDownloading docker-7.1.0-py3-none-any.whl (147 kB)\n",
            "\u001b[2K   \u001b[90m━━━━━━━━━━━━━━━━━━━━━━━━━━━━━━━━━━━━━━━━\u001b[0m \u001b[32m147.8/147.8 kB\u001b[0m \u001b[31m15.4 MB/s\u001b[0m eta \u001b[36m0:00:00\u001b[0m\n",
            "\u001b[?25hDownloading python_dotenv-1.1.1-py3-none-any.whl (20 kB)\n",
            "Installing collected packages: python-dotenv, diskcache, docker, asyncer, ag2, autogen\n",
            "Successfully installed ag2-0.9.6 asyncer-0.0.8 autogen-0.9.6 diskcache-5.6.3 docker-7.1.0 python-dotenv-1.1.1\n"
          ]
        }
      ]
    },
    {
      "cell_type": "code",
      "execution_count": 2,
      "metadata": {
        "id": "rxlSAvFzDFsa"
      },
      "outputs": [],
      "source": [
        "import os\n",
        "from google.colab import userdata\n",
        "openai_api_key = userdata.get('OPENAI_API_KEY')\n",
        "\n",
        "from autogen import ConversableAgent\n",
        "\n",
        "agent = ConversableAgent(\n",
        "    \"chatbot\",\n",
        "    llm_config={\"config_list\": [{\"model\": \"gpt-4\", \"api_key\": openai_api_key}]},\n",
        "    code_execution_config=False,  # Turn off code execution, by default it is off.\n",
        "    function_map=None,  # No registered functions, by default it is None.\n",
        "    human_input_mode=\"NEVER\",  # Never ask for human input.\n",
        ")"
      ]
    },
    {
      "cell_type": "markdown",
      "metadata": {
        "id": "i-7J_kScDFsb"
      },
      "source": [
        "The `llm_config` argument contains a list of configurations for the LLMs.\n",
        "See [LLM Configuration](/docs/topics/llm_configuration) for more details."
      ]
    },
    {
      "cell_type": "markdown",
      "metadata": {
        "id": "BmZVRTHbDFsb"
      },
      "source": [
        "You can ask this agent to generate a response to a question using the `generate_reply` method:"
      ]
    },
    {
      "cell_type": "code",
      "execution_count": 3,
      "metadata": {
        "colab": {
          "base_uri": "https://localhost:8080/"
        },
        "id": "Es91RgElDFsb",
        "outputId": "d8c84d46-9329-431c-baf4-e7d1f8b48139"
      },
      "outputs": [
        {
          "output_type": "stream",
          "name": "stdout",
          "text": [
            "Sure, here's a classic for you: \n",
            "\n",
            "Why don't scientists trust atoms?\n",
            "\n",
            "Because they make up everything!\n"
          ]
        }
      ],
      "source": [
        "reply = agent.generate_reply(messages=[{\"content\": \"Tell me a joke.\", \"role\": \"user\"}])\n",
        "print(reply)"
      ]
    },
    {
      "cell_type": "markdown",
      "metadata": {
        "id": "kFAUGRoBDFsc"
      },
      "source": [
        "## Roles and Conversations\n",
        "\n",
        "In AutoGen, you can assign roles to agents and have them participate in conversations or chat with each other. A conversation is a sequence of messages exchanged between agents. You can then use these conversations to make progress on a task. For example, in the example below, we assign different roles to two agents by setting their\n",
        "`system_message`."
      ]
    },
    {
      "cell_type": "code",
      "execution_count": 6,
      "metadata": {
        "id": "8IODtqgGDFsc"
      },
      "outputs": [],
      "source": [
        "from autogen import ConversableAgent\n",
        "import os\n",
        "from google.colab import userdata\n",
        "openai_api_key = userdata.get('OPENAI_API_KEY')\n",
        "\n",
        "cathy = ConversableAgent(\n",
        "    \"cathy\",\n",
        "    system_message=\"Your name is Cathy and you are a part of a duo of comedians.\",\n",
        "    llm_config={\"config_list\": [{\"model\": \"gpt-4\", \"api_key\": openai_api_key}]},\n",
        "    human_input_mode=\"NEVER\",  # Never ask for human input.\n",
        ")\n",
        "\n",
        "joe = ConversableAgent(\n",
        "    \"joe\",\n",
        "    system_message=\"Your name is Joe and you are a part of a duo of comedians.\",\n",
        "    llm_config={\"config_list\": [{\"model\": \"gpt-4\", \"api_key\": openai_api_key}]},\n",
        "    human_input_mode=\"NEVER\",  # Never ask for human input.\n",
        ")"
      ]
    },
    {
      "cell_type": "markdown",
      "metadata": {
        "id": "bCPMY89FDFsc"
      },
      "source": [
        "Now that we have two comedian agents, we can ask them to start a comedy show.\n",
        "This can be done using the `initiate_chat` method.\n",
        "We set the `max_turns` to 2 to keep the conversation short."
      ]
    },
    {
      "cell_type": "code",
      "execution_count": 7,
      "metadata": {
        "colab": {
          "base_uri": "https://localhost:8080/"
        },
        "id": "2v2FZaEqDFsc",
        "outputId": "5e25789d-ee7f-4c35-9d58-f39b6a6cc6e2"
      },
      "outputs": [
        {
          "output_type": "stream",
          "name": "stdout",
          "text": [
            "joe (to cathy):\n",
            "\n",
            "Cathy, tell me a joke.\n",
            "\n",
            "--------------------------------------------------------------------------------\n",
            "cathy (to joe):\n",
            "\n",
            "Sure, here goes: \n",
            "\n",
            "Why don't scientists trust atoms?\n",
            "\n",
            "Because they make up everything!\n",
            "\n",
            "--------------------------------------------------------------------------------\n",
            "joe (to cathy):\n",
            "\n",
            "Good one, Cathy! Now, here's mine: \n",
            "\n",
            "Why don't we ever tell secrets on a farm?\n",
            "\n",
            "Because the potatoes have eyes, the corn has ears, and the beans stalk.\n",
            "\n",
            "--------------------------------------------------------------------------------\n",
            "cathy (to joe):\n",
            "\n",
            "Oh Joe, that's a great one! You surely know how to crack 'em! Let's see if you like this one: \n",
            "\n",
            "Where do you learn to make banana splits?\n",
            "\n",
            "At Sundae School!\n",
            "\n",
            "--------------------------------------------------------------------------------\n",
            "\n",
            ">>>>>>>> TERMINATING RUN (b2306459-292d-4b55-980b-5c8f472c5f37): Maximum turns (2) reached\n"
          ]
        }
      ],
      "source": [
        "result = joe.initiate_chat(cathy, message=\"Cathy, tell me a joke.\", max_turns=2)"
      ]
    },
    {
      "cell_type": "markdown",
      "metadata": {
        "id": "DwR22emjDFsc"
      },
      "source": [
        "The comedians are bouncing off each other!"
      ]
    },
    {
      "cell_type": "markdown",
      "metadata": {
        "id": "Rm96GS4SDFsc"
      },
      "source": [
        "## Summary\n",
        "\n",
        "In this chapter, we introduced the concept of agents, roles and conversations in AutoGen.\n",
        "For simplicity, we only used LLMs and created fully autonomous agents (`human_input_mode` was set to `NEVER`).\n",
        "In the next chapter,\n",
        "we will show how you can control when to _terminate_ a conversation between autonomous agents."
      ]
    }
  ],
  "metadata": {
    "kernelspec": {
      "display_name": "autogen",
      "language": "python",
      "name": "python3"
    },
    "language_info": {
      "codemirror_mode": {
        "name": "ipython",
        "version": 3
      },
      "file_extension": ".py",
      "mimetype": "text/x-python",
      "name": "python",
      "nbconvert_exporter": "python",
      "pygments_lexer": "ipython3",
      "version": "3.11.5"
    },
    "colab": {
      "provenance": []
    }
  },
  "nbformat": 4,
  "nbformat_minor": 0
}